{
 "cells": [
  {
   "cell_type": "code",
   "execution_count": 1,
   "metadata": {},
   "outputs": [
    {
     "name": "stdout",
     "output_type": "stream",
     "text": [
      "True\n",
      "False\n"
     ]
    }
   ],
   "source": [
    "# 1. Write a function called is_sorted that takes a list as a parameter and returns True if the list is sorted in ascending order and False otherwise.\n",
    "def is_sorted(input_list):\n",
    "    for i in range(len(input_list) - 1):\n",
    "        if input_list[i] > input_list[i + 1]:\n",
    "            return False\n",
    "    return True\n",
    "list1 = [1, 2, 3, 4, 5]\n",
    "list2 = [5, 3, 8, 2, 10]\n",
    "\n",
    "print(is_sorted(list1))  \n",
    "print(is_sorted(list2))\n"
   ]
  },
  {
   "cell_type": "code",
   "execution_count": null,
   "metadata": {},
   "outputs": [
    {
     "name": "stdout",
     "output_type": "stream",
     "text": [
      "True\n"
     ]
    }
   ],
   "source": [
    "# 2. i) Write a function called has_duplicates that takes a list and returns True if there is any element that appears more than once.\n",
    "# It should not modify the original list.\n",
    "def as_duplicate(list1):\n",
    "    a=len(list1)\n",
    "    for i in range(0,a+1):\n",
    "        for j in range(i+1,a):\n",
    "            if(list1[i]==list1[j]):\n",
    "                return True\n",
    "    return False\n",
    "list1=[1,2,6,4,5,1]\n",
    "c=as_duplicate(list1)\n",
    "print(c)\n"
   ]
  },
  {
   "cell_type": "code",
   "execution_count": 4,
   "metadata": {},
   "outputs": [
    {
     "name": "stdout",
     "output_type": "stream",
     "text": [
      "[2, 3, 5, 6, 8, 9]\n"
     ]
    }
   ],
   "source": [
    "# 2. ii) Write a function called remove_duplicates that takes a list and returns a new list with only the unique elements from the original. \n",
    "# Hint: they don’t have to be in the same order.\n",
    "def remove_duplicates(input_list):\n",
    "    unique_list = list(set(input_list))\n",
    "    return unique_list\n",
    "original_list = [2, 3, 2, 5, 6, 5, 8, 2, 9]\n",
    "new_list = remove_duplicates(original_list)\n",
    "print(new_list)\n",
    "\n"
   ]
  },
  {
   "cell_type": "code",
   "execution_count": 5,
   "metadata": {},
   "outputs": [
    {
     "name": "stdout",
     "output_type": "stream",
     "text": [
      "{1: 'a', 2: 'b', 3: 'c'}\n"
     ]
    }
   ],
   "source": [
    "# 2. iii) Write a python code to read dictionary values from the user. Construct a function to invert its content. i.e.,\n",
    "# keys should be values and values should be keys.\n",
    "original_dict = {'a': 1, 'b': 2, 'c': 3}\n",
    "interchanged_dict = {value: key for key, value in original_dict.items()}\n",
    "\n",
    "print(interchanged_dict)\n"
   ]
  },
  {
   "cell_type": "code",
   "execution_count": 6,
   "metadata": {},
   "outputs": [
    {
     "name": "stdout",
     "output_type": "stream",
     "text": [
      "a,p,p,l,e\n"
     ]
    }
   ],
   "source": [
    "# 3. i) Add a comma between the characters. If the given word is 'Apple', it should become 'A,p,p,l,e'.\n",
    "x=\"apple\"\n",
    "y=','.join(x)\n",
    "print(y)\n"
   ]
  },
  {
   "cell_type": "code",
   "execution_count": 7,
   "metadata": {},
   "outputs": [
    {
     "name": "stdout",
     "output_type": "stream",
     "text": [
      "Th  just a test.\n"
     ]
    }
   ],
   "source": [
    "# 3. ii) Remove the given word in all the places in a string?\n",
    "x=\"This is just a test.\"\n",
    "y=x.replace(\"is\",\"\")\n",
    "print(y)\n"
   ]
  },
  {
   "cell_type": "code",
   "execution_count": 8,
   "metadata": {},
   "outputs": [
    {
     "name": "stdout",
     "output_type": "stream",
     "text": [
      "Lazy Dog Jumps Over The Fox\n"
     ]
    }
   ],
   "source": [
    "# 3. iii) Write a function that takes a sentence as an input parameter and replaces the first letter of every word with the corresponding\n",
    "# upper case letter and the rest of the letters in the word by corresponding lettersin lower case without using a built-in function?\n",
    "def capitalizing(sentence):\n",
    "    words = sentence.split()\n",
    "    cap_words=[]\n",
    "    for i in words:\n",
    "        cap_words.append(i.capitalize())\n",
    "    cap_sentence = ' '.join(cap_words)\n",
    "    print(cap_sentence)\n",
    "input_sentence = input(\"Enter a sentence: \")\n",
    "capitalizing(input_sentence)\n"
   ]
  },
  {
   "cell_type": "code",
   "execution_count": 9,
   "metadata": {},
   "outputs": [
    {
     "name": "stdout",
     "output_type": "stream",
     "text": [
      "0000\n",
      "0001\n",
      "0010\n",
      "0011\n",
      "0100\n",
      "0101\n",
      "0110\n",
      "0111\n",
      "1000\n",
      "1001\n",
      "1010\n",
      "1011\n",
      "1100\n",
      "1101\n",
      "1110\n",
      "1111\n"
     ]
    }
   ],
   "source": [
    "# 4. Writes a recursive function that generates all binary strings of n-bit length\n",
    "def generate_binary_strings(n, prefix=\"\"):\n",
    "    if n == 0:\n",
    "        print(prefix)\n",
    "    else:\n",
    "        generate_binary_strings(n - 1, prefix + \"0\")\n",
    "        generate_binary_strings(n - 1, prefix + \"1\")\n",
    "\n",
    "n_bits = 4\n",
    "generate_binary_strings(n_bits)\n"
   ]
  },
  {
   "cell_type": "code",
   "execution_count": 10,
   "metadata": {},
   "outputs": [
    {
     "name": "stdout",
     "output_type": "stream",
     "text": [
      "Union:  {1, 2, 3, 4, 5, 6, 7}\n",
      "Intersection:  {3, 4, 5}\n",
      "Difference :  {1, 2}\n",
      "symmetric difference :  {1, 2, 6, 7}\n"
     ]
    }
   ],
   "source": [
    "# 5. Write a Python program to implement all set operations\n",
    "set1={1,2,3,4,5}\n",
    "set2={3,4,5,6,7}\n",
    "union_result=set1.union(set2)\n",
    "union_intersection=set1.intersection(set2)\n",
    "union_difference=set1.difference(set2)\n",
    "symmetric_difference_result = set1.symmetric_difference(set2)\n",
    "print(\"Union: \",union_result)\n",
    "print(\"Intersection: \",union_intersection)\n",
    "print(\"Difference : \",union_difference)\n",
    "print(\"symmetric difference : \",symmetric_difference_result)\n"
   ]
  },
  {
   "cell_type": "code",
   "execution_count": 11,
   "metadata": {},
   "outputs": [
    {
     "name": "stdout",
     "output_type": "stream",
     "text": [
      "True\n"
     ]
    }
   ],
   "source": [
    "# 6. Write a program to check whether a string is palindrome or not.\n",
    "def palindrome(x):\n",
    "    for i in range(0,len(x)):\n",
    "        if(x[i]==x[len(x)-i-1]):\n",
    "            return True\n",
    "        else:\n",
    "            return False\n",
    "Input=input(\"enter a string \")\n",
    "c=palindrome(Input)\n",
    "print(c)\n"
   ]
  }
 ],
 "metadata": {
  "kernelspec": {
   "display_name": "Python 3",
   "language": "python",
   "name": "python3"
  },
  "language_info": {
   "codemirror_mode": {
    "name": "ipython",
    "version": 3
   },
   "file_extension": ".py",
   "mimetype": "text/x-python",
   "name": "python",
   "nbconvert_exporter": "python",
   "pygments_lexer": "ipython3",
   "version": "3.12.7"
  }
 },
 "nbformat": 4,
 "nbformat_minor": 2
}

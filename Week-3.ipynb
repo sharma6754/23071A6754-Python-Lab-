{
 "cells": [
  {
   "cell_type": "code",
   "execution_count": 1,
   "metadata": {},
   "outputs": [
    {
     "name": "stdout",
     "output_type": "stream",
     "text": [
      "list_array: array('i', [1, 2, 3])\n",
      "tuple_array: array('i', [4, 9, 0])\n"
     ]
    }
   ],
   "source": [
    "# 1.i) Write a program to convert a list and tuple into arrays.\n",
    "from array import array\n",
    "list=[1,2,3]\n",
    "list_array=array(\"i\",list)\n",
    "print(\"list_array:\",list_array)\n",
    "tuple=(4,9,0)\n",
    "tuple_array=array(\"i\",tuple)\n",
    "print(\"tuple_array:\",tuple_array)\n"
   ]
  },
  {
   "cell_type": "code",
   "execution_count": 2,
   "metadata": {},
   "outputs": [
    {
     "name": "stdout",
     "output_type": "stream",
     "text": [
      "{8}\n"
     ]
    }
   ],
   "source": [
    "# 4. ii) Write a program to find common values between two arrays.\n",
    "from array import *\n",
    "array1=array('i',[7,8,9,8])\n",
    "array2=array('i',[23,33,11,8])\n",
    "common_values=[]\n",
    "for i in array1:\n",
    "    for j in array2:\n",
    "        if i==j:\n",
    "            common_values.append(i)\n",
    "common_values=set(common_values)\n",
    "print(common_values)\n"
   ]
  },
  {
   "cell_type": "code",
   "execution_count": 3,
   "metadata": {},
   "outputs": [
    {
     "name": "stdout",
     "output_type": "stream",
     "text": [
      "GCD of 48 and 18 is: 6\n"
     ]
    }
   ],
   "source": [
    "# 2. Write a function called gcd that takes parameters a and b and returns their greatest common divisor.\n",
    "def gcd(a, b):\n",
    "    while b:\n",
    "        a, b = b, a % b\n",
    "    return a\n",
    "num1 = 48\n",
    "num2 = 18\n",
    "result = gcd(num1, num2)\n",
    "print(\"GCD of\", num1, \"and\", num2, \"is:\", result)\n"
   ]
  },
  {
   "cell_type": "code",
   "execution_count": 5,
   "metadata": {},
   "outputs": [
    {
     "name": "stdout",
     "output_type": "stream",
     "text": [
      "False\n"
     ]
    }
   ],
   "source": [
    "# 3. Write a function called palindrome that takes a string argument and returns True if it is a palindrome and False otherwise.\n",
    "# Remember that you can use the built-in function len to check the length of a string.\n",
    "def palindrome(string):\n",
    "    \n",
    "    len_string=len(string)\n",
    "    for i in range(0,int(len_string/2)):\n",
    "        if(string[i]==string[len_string-1]):\n",
    "            len_string=len_string-1\n",
    "            return True\n",
    "        else:\n",
    "            return False\n",
    "a=input(\"enter a string \")\n",
    "c=palindrome(a)\n",
    "print(c)\n"
   ]
  },
  {
   "cell_type": "code",
   "execution_count": 6,
   "metadata": {},
   "outputs": [
    {
     "name": "stdout",
     "output_type": "stream",
     "text": [
      "enter the element\n",
      "enter the element\n",
      "enter the element\n",
      "enter the element\n",
      "enter the element\n",
      "127.8 =mean\n",
      "12 =mode\n",
      "24 =median\n"
     ]
    }
   ],
   "source": [
    "# 4. Find mean, median, mode for the given set of numbers in a list.\n",
    "import statistics as s\n",
    "list=[]\n",
    "n=int(input(\"enter the number of elements\"))\n",
    "for i in range(0,n):\n",
    "    print(\"enter the element\")\n",
    "    elements=int(input())\n",
    "    list.append(elements)\n",
    "print(s.mean(list),\"=mean\")\n",
    "print(s.mode(list),\"=mode\")\n",
    "print(s.median(list),\"=median\")\n"
   ]
  },
  {
   "cell_type": "code",
   "execution_count": null,
   "metadata": {},
   "outputs": [],
   "source": [
    "# 5. Write a Python program to create a tuple.\n",
    "tuple1 = (1, 2, 3, 4, 5)\n",
    "# Creating an empty tuple\n",
    "tuple2 = ()\n",
    "# Creating a tuple with a single element\n",
    "tuple3 = (10,)  # Note the comma after the single element\n",
    "tuple4 = tuple([6, 7, 8, 9, 10])\n",
    "tuple5 = (\"apple\", 3.14, True)\n",
    "\n",
    "print(\"Tuple 1:\", tuple1)\n",
    "print(\"Tuple 2:\", tuple2)\n",
    "print(\"Tuple 3:\", tuple3)\n",
    "print(\"Tuple 4:\", tuple4)\n",
    "print(\"Tuple 5:\", tuple5)\n"
   ]
  },
  {
   "cell_type": "code",
   "execution_count": 10,
   "metadata": {},
   "outputs": [
    {
     "name": "stdout",
     "output_type": "stream",
     "text": [
      "Tuple :  ('Apple', True, 30)\n"
     ]
    }
   ],
   "source": [
    "# 6.Write a Python program to create a tuple with different data types.\n",
    "tuple1=(\"Apple\",True,30)\n",
    "print(\"Tuple : \",tuple1)\n"
   ]
  },
  {
   "cell_type": "code",
   "execution_count": 11,
   "metadata": {},
   "outputs": [
    {
     "name": "stdout",
     "output_type": "stream",
     "text": [
      "Element exist within the tuple\n"
     ]
    }
   ],
   "source": [
    "# 7.Write a Python program to check whether an element exists within a tuple.\n",
    "a=input(\"enter the element you want to search in the tuple: \")\n",
    "tuple1=(\"Dog\",\"cat\",True,50,20)\n",
    "len_tuple1=len(tuple1)\n",
    "for i in range(0,len_tuple1):\n",
    "    if(a==tuple1[i]):\n",
    "        print(\"Element exist within the tuple\")"
   ]
  },
  {
   "cell_type": "code",
   "execution_count": null,
   "metadata": {},
   "outputs": [],
   "source": []
  }
 ],
 "metadata": {
  "kernelspec": {
   "display_name": "Python 3",
   "language": "python",
   "name": "python3"
  },
  "language_info": {
   "codemirror_mode": {
    "name": "ipython",
    "version": 3
   },
   "file_extension": ".py",
   "mimetype": "text/x-python",
   "name": "python",
   "nbconvert_exporter": "python",
   "pygments_lexer": "ipython3",
   "version": "3.12.7"
  }
 },
 "nbformat": 4,
 "nbformat_minor": 2
}

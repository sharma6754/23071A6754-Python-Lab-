{
 "cells": [
  {
   "cell_type": "code",
   "execution_count": 1,
   "metadata": {},
   "outputs": [
    {
     "name": "stdout",
     "output_type": "stream",
     "text": [
      "5 \n",
      "\n",
      "4 4 \n",
      "\n",
      "3 3 3 \n",
      "\n",
      "2 2 2 2 \n",
      "\n",
      "1 1 1 1 1 \n",
      "\n"
     ]
    }
   ],
   "source": [
    "#1. Print the below triangle using for loop.\n",
    "#5\n",
    "#4 4\n",
    "#3 3 3\n",
    "#2 2 2 2\n",
    "#1 1 1 1 1\n",
    "num=5\n",
    "for i in range(0,5):\n",
    "    for j in range(0,i+1):\n",
    "        print(num,end=\" \")\n",
    "    print(\"\\n\")\n",
    "    num=num-1\n"
   ]
  },
  {
   "cell_type": "code",
   "execution_count": 4,
   "metadata": {},
   "outputs": [
    {
     "name": "stdout",
     "output_type": "stream",
     "text": [
      "P\n",
      "given input is of upper case characters\n"
     ]
    }
   ],
   "source": [
    "# 2. Write a program to check whether the given input is digit or lowercase character or uppercase character or a special character\n",
    "# (use 'if-else-if' ladder)\n",
    "a=input(\"enter any element\")\n",
    "print(a)\n",
    "if a.islower():\n",
    "    print(\"given input is of lower case characters\")\n",
    "elif a.isupper():\n",
    "    print(\"given input is of upper case characters\")\n",
    "elif a.isalnum():\n",
    "    print(\"Given input are numbers\")\n",
    "else:\n",
    "    print(\"special characters\")\n"
   ]
  },
  {
   "cell_type": "code",
   "execution_count": 7,
   "metadata": {},
   "outputs": [
    {
     "name": "stdout",
     "output_type": "stream",
     "text": [
      "5\n",
      "0 1 1 2 3 "
     ]
    }
   ],
   "source": [
    "# 3. Python Program to Print the Fibonacci sequence using while loop\n",
    "a=int(input(\"enter the number of elements in fibonacci series\"))\n",
    "print(a)\n",
    "l=0\n",
    "i=0\n",
    "j=1\n",
    "k=i+j\n",
    "for l in range(0,a):\n",
    "    print(i, end = \" \")\n",
    "    i=j\n",
    "    j=k\n",
    "    k=i+j\n"
   ]
  },
  {
   "cell_type": "code",
   "execution_count": null,
   "metadata": {},
   "outputs": [
    {
     "name": "stdout",
     "output_type": "stream",
     "text": [
      "10\n",
      "30\n",
      "11  is a prime number\n",
      "13  is a prime number\n",
      "17  is a prime number\n",
      "19  is a prime number\n",
      "23  is a prime number\n",
      "29  is a prime number\n"
     ]
    }
   ],
   "source": [
    "# 4. Python program to print all prime numbers in a given interval (use break)\n",
    "count=0\n",
    "a=int(input(\"enter the lowest  range\"))\n",
    "b=int(input(\"enter the upper range\"))\n",
    "print(a)\n",
    "print(b) \n",
    "for n in range(a,b):\n",
    "    if(n>0):\n",
    "        for j in range(1,n+1):\n",
    "            if(n%j==0):\n",
    "                count=count+1\n",
    "                        \n",
    "        if(count==2):\n",
    "            print(n,\" is a prime number\")\n",
    "        count=0\n",
    "    else:\n",
    "        break\n"
   ]
  },
  {
   "cell_type": "code",
   "execution_count": null,
   "metadata": {},
   "outputs": [
    {
     "name": "stdout",
     "output_type": "stream",
     "text": [
      "LCM of given numbers : 42\n"
     ]
    }
   ],
   "source": [
    "# 5.Write a program to compute LCM of two numbers by taking input from the user\n",
    "import math as m\n",
    "num1=int(input(\"enter a number\"))\n",
    "num2=int(input(\"enter another number\"))\n",
    "LCM=m.lcm(num1, num2)\n",
    "print(\"LCM of given numbers :\",LCM)\n"
   ]
  },
  {
   "cell_type": "code",
   "execution_count": null,
   "metadata": {},
   "outputs": [
    {
     "name": "stdout",
     "output_type": "stream",
     "text": [
      "Usage: python add.py <num1> <num2>\n"
     ]
    },
    {
     "ename": "SystemExit",
     "evalue": "1",
     "output_type": "error",
     "traceback": [
      "An exception has occurred, use %tb to see the full traceback.\n",
      "\u001b[1;31mSystemExit\u001b[0m\u001b[1;31m:\u001b[0m 1\n"
     ]
    },
    {
     "name": "stderr",
     "output_type": "stream",
     "text": [
      "C:\\Users\\sraun\\AppData\\Local\\Packages\\PythonSoftwareFoundation.Python.3.12_qbz5n2kfra8p0\\LocalCache\\local-packages\\Python312\\site-packages\\IPython\\core\\interactiveshell.py:3585: UserWarning: To exit: use 'exit', 'quit', or Ctrl-D.\n",
      "  warn(\"To exit: use 'exit', 'quit', or Ctrl-D.\", stacklevel=1)\n"
     ]
    }
   ],
   "source": [
    "# 6.Write a program add.py that takes 2 numbers as command line arguments and prints its sum.\n",
    "import sys as s\n",
    "sum=float(s.argv[1])+float(s.argv[2])\n",
    "print(\"sum is:\",sum)\n"
   ]
  },
  {
   "cell_type": "code",
   "execution_count": null,
   "metadata": {},
   "outputs": [],
   "source": []
  }
 ],
 "metadata": {
  "kernelspec": {
   "display_name": "Python 3",
   "language": "python",
   "name": "python3"
  },
  "language_info": {
   "codemirror_mode": {
    "name": "ipython",
    "version": 3
   },
   "file_extension": ".py",
   "mimetype": "text/x-python",
   "name": "python",
   "nbconvert_exporter": "python",
   "pygments_lexer": "ipython3",
   "version": "3.12.7"
  }
 },
 "nbformat": 4,
 "nbformat_minor": 2
}

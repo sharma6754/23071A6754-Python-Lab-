{
 "cells": [
  {
   "cell_type": "code",
   "execution_count": 1,
   "id": "117a898b-c362-4933-9b29-b719324779c9",
   "metadata": {},
   "outputs": [
    {
     "name": "stdin",
     "output_type": "stream",
     "text": [
      "enter a number 25\n",
      "enter a number 36\n"
     ]
    },
    {
     "name": "stdout",
     "output_type": "stream",
     "text": [
      "add: 61\n",
      "sub: -11\n",
      "multiplication: 900\n",
      "division: 0.6944444444444444\n"
     ]
    }
   ],
   "source": [
    "#Calculator\n",
    "a=int(input(\"enter a number\"))\n",
    "b=int(input(\"enter a number\"))\n",
    "print(\"add:\",a+b)\n",
    "print(\"sub:\",a-b)\n",
    "print(\"multiplication:\",a*b)\n",
    "print(\"division:\",a/b)"
   ]
  },
  {
   "cell_type": "code",
   "execution_count": 5,
   "id": "8102c261-c896-4276-b0f3-1d193a39a7d0",
   "metadata": {},
   "outputs": [
    {
     "name": "stdout",
     "output_type": "stream",
     "text": [
      "add: 7\n"
     ]
    }
   ],
   "source": [
    "#3. Write a program to purposefully raise Indentation Error and correct it.\n",
    "#Indentation Error \n",
    "# a=5\n",
    "#     b=2\n",
    "# print(\"add:\",a+b)\n",
    "#correct program\n",
    "a=5\n",
    "b=2\n",
    "print(\"add:\",a+b)"
   ]
  },
  {
   "cell_type": "code",
   "execution_count": 6,
   "id": "b3e8f311-7e6f-4b7f-9118-7ccd352bcd28",
   "metadata": {},
   "outputs": [
    {
     "name": "stdout",
     "output_type": "stream",
     "text": [
      "amount after time period 1061.208\n",
      "compound intrest: 61.208000000000084\n"
     ]
    }
   ],
   "source": [
    "#4. i) Write a program to calculate compound interest when principal, rate and number of periods are given.\n",
    "p=1000\n",
    "r=2\n",
    "t=3\n",
    "A=p*((1+r/100)**t)\n",
    "CI=A-p\n",
    "print(\"amount after time period\",A)\n",
    "print(\"compound intrest:\",CI)"
   ]
  },
  {
   "cell_type": "code",
   "execution_count": 7,
   "id": "57a568dc-09e8-4ba8-bd64-2baa65f56841",
   "metadata": {},
   "outputs": [
    {
     "name": "stdin",
     "output_type": "stream",
     "text": [
      "enter the x1 value 2\n",
      "enter the x2 value 1\n",
      "enter the y1 value 3\n",
      "enter the y2 value 2\n"
     ]
    },
    {
     "name": "stdout",
     "output_type": "stream",
     "text": [
      "distance between two given points is  1.4142135623730951\n"
     ]
    }
   ],
   "source": [
    "# 4. ii) Given coordinates (x1, y1), (x2, y2) find the distance between two points\n",
    "x1=int(input(\"enter the x1 value\"))\n",
    "x2=int(input(\"enter the x2 value\"))\n",
    "y1=int(input(\"enter the y1 value\"))\n",
    "y2=int(input(\"enter the y2 value\"))\n",
    "d=((x1-x2)**2+(y1-y2)**2)**(1/2)\n",
    "print(\"distance between two given points is \",d)"
   ]
  },
  {
   "cell_type": "code",
   "execution_count": 8,
   "id": "6615b14a-17ea-473a-9fd2-21dbf3e5ef1c",
   "metadata": {},
   "outputs": [
    {
     "name": "stdin",
     "output_type": "stream",
     "text": [
      "enter your name   Raunit\n",
      "enter your email-id  : sdfgrhsu@gmail.com\n",
      "enter your phone number  : 4645465756\n",
      "enter your address : kla residency, binur colony, hyderabad - 500011\n"
     ]
    },
    {
     "name": "stdout",
     "output_type": "stream",
     "text": [
      "Name: Raunit\n",
      "Email-id: sdfgrhsu@gmail.com\n",
      "Phone-no: 4645465756\n",
      "Address: kla residency, binur colony, hyderabad - 500011\n"
     ]
    }
   ],
   "source": [
    "# 5. Read name, address, email and phone number of a person through keyboard and print the details.\n",
    "name=input(\"enter your name  \")\n",
    "email_id=input(\"enter your email-id  :\")\n",
    "phone_no=int(input(\"enter your phone number  :\"))\n",
    "address=input(\"enter your address :\")\n",
    "print(\"Name:\",name)\n",
    "print(\"Email-id:\",email_id)\n",
    "print(\"Phone-no:\",phone_no)\n",
    "print(\"Address:\",address)"
   ]
  },
  {
   "cell_type": "code",
   "execution_count": null,
   "id": "8ae4f562-f3af-4d25-9cf9-79e7c9fcfb9e",
   "metadata": {},
   "outputs": [],
   "source": []
  }
 ],
 "metadata": {
  "kernelspec": {
   "display_name": "Python 3 (ipykernel)",
   "language": "python",
   "name": "python3"
  },
  "language_info": {
   "codemirror_mode": {
    "name": "ipython",
    "version": 3
   },
   "file_extension": ".py",
   "mimetype": "text/x-python",
   "name": "python",
   "nbconvert_exporter": "python",
   "pygments_lexer": "ipython3",
   "version": "3.12.7"
  }
 },
 "nbformat": 4,
 "nbformat_minor": 5
}
